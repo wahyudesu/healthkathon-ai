{
 "cells": [
  {
   "cell_type": "code",
   "execution_count": 15,
   "metadata": {},
   "outputs": [
    {
     "name": "stdout",
     "output_type": "stream",
     "text": [
      "Login successful!\n"
     ]
    }
   ],
   "source": [
    "import psycopg2\n",
    "from dotenv import load_dotenv\n",
    "import os\n",
    "\n",
    "load_dotenv()\n",
    "\n",
    "# Database\n",
    "conn = psycopg2.connect(\n",
    "    host=os.getenv(\"PGHOST\"),\n",
    "    database=os.getenv(\"PGDATABASE\"),\n",
    "    user=os.getenv(\"PGUSER\"),\n",
    "    password=os.getenv(\"PGPASSWORD\")\n",
    ")\n",
    "\n",
    "cursor = conn.cursor()\n",
    "def login_user(cursor):\n",
    "    # Input for username and password\n",
    "    email = input(\"email: \")\n",
    "    password = input(\"Password: \")\n",
    "\n",
    "    # Execute a query to find the user\n",
    "    if email and password:  # Check if both fields are filled\n",
    "        cursor.execute(\"SELECT fullname, email, number, location, role FROM users WHERE email = %s AND password = %s\", (email, password))\n",
    "        user = cursor.fetchone()\n",
    "        if user:\n",
    "            # Store values in variables for future use\n",
    "            logged_in_username = user[0]\n",
    "            logged_in_email = user[1]\n",
    "            \n",
    "            print(\"Login successful!\")\n",
    "            return logged_in_username, logged_in_email  # Return the values\n",
    "            \n",
    "        else:\n",
    "            print(\"Invalid username or password\")\n",
    "            \n",
    "# Call the function and store the returned values\n",
    "logged_in_username, logged_in_email = login_user(cursor)"
   ]
  },
  {
   "cell_type": "code",
   "execution_count": 17,
   "metadata": {},
   "outputs": [
    {
     "data": {
      "text/plain": [
       "'admin123@gmail.com'"
      ]
     },
     "execution_count": 17,
     "metadata": {},
     "output_type": "execute_result"
    }
   ],
   "source": [
    "logged_in_email"
   ]
  }
 ],
 "metadata": {
  "kernelspec": {
   "display_name": "Python 3",
   "language": "python",
   "name": "python3"
  },
  "language_info": {
   "codemirror_mode": {
    "name": "ipython",
    "version": 3
   },
   "file_extension": ".py",
   "mimetype": "text/x-python",
   "name": "python",
   "nbconvert_exporter": "python",
   "pygments_lexer": "ipython3",
   "version": "3.10.7"
  }
 },
 "nbformat": 4,
 "nbformat_minor": 2
}
