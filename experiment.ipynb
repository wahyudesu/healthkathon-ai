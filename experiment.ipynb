{
 "cells": [
  {
   "cell_type": "code",
   "execution_count": 15,
   "metadata": {},
   "outputs": [
    {
     "name": "stdout",
     "output_type": "stream",
     "text": [
      "Login successful!\n"
     ]
    }
   ],
   "source": [
    "import psycopg2\n",
    "from dotenv import load_dotenv\n",
    "import os\n",
    "\n",
    "load_dotenv()\n",
    "\n",
    "# Database\n",
    "conn = psycopg2.connect(\n",
    "    host=os.getenv(\"PGHOST\"),\n",
    "    database=os.getenv(\"PGDATABASE\"),\n",
    "    user=os.getenv(\"PGUSER\"),\n",
    "    password=os.getenv(\"PGPASSWORD\")\n",
    ")\n",
    "\n",
    "cursor = conn.cursor()\n",
    "def login_user(cursor):\n",
    "    # Input for username and password\n",
    "    email = input(\"email: \")\n",
    "    password = input(\"Password: \")\n",
    "\n",
    "    # Execute a query to find the user\n",
    "    if email and password:  # Check if both fields are filled\n",
    "        cursor.execute(\"SELECT fullname, email, number, location, role FROM users WHERE email = %s AND password = %s\", (email, password))\n",
    "        user = cursor.fetchone()\n",
    "        if user:\n",
    "            # Store values in variables for future use\n",
    "            logged_in_username = user[0]\n",
    "            logged_in_email = user[1]\n",
    "            \n",
    "            print(\"Login successful!\")\n",
    "            return logged_in_username, logged_in_email  # Return the values\n",
    "            \n",
    "        else:\n",
    "            print(\"Invalid username or password\")\n",
    "            \n",
    "# Call the function and store the returned values\n",
    "logged_in_username, logged_in_email = login_user(cursor)"
   ]
  },
  {
   "cell_type": "code",
   "execution_count": 17,
   "metadata": {},
   "outputs": [
    {
     "data": {
      "text/plain": [
       "'admin123@gmail.com'"
      ]
     },
     "execution_count": 17,
     "metadata": {},
     "output_type": "execute_result"
    }
   ],
   "source": [
    "logged_in_email"
   ]
  },
  {
   "cell_type": "code",
   "execution_count": 14,
   "metadata": {},
   "outputs": [
    {
     "name": "stdout",
     "output_type": "stream",
     "text": [
      "In the bustling town of Willow Creek, nestled amidst rolling hills and whispering willows, there lived an ordinary school girl named Anya. Unbeknownst to her, her life was about to take an extraordinary turn.\n",
      "\n",
      "One ordinary morning, as Anya ambled towards the school bus stop, she noticed a peculiar backpack lying discarded on the sidewalk. Its weathered canvas was emblazoned with intricate runes and symbols, and its leather straps bore the patina of time. Curiosity sparked within her, and she cautiously lifted it up.\n",
      "\n",
      "As her fingers brushed against the backpack, a faint hum reverberated through the air. To Anya's astonishment, the runes began to glow, casting an ethereal light upon her hands. Suddenly, the backpack unzipped itself, revealing a swirling vortex that seemed to lead into another dimension.\n",
      "\n",
      "Trembling with a mix of awe and apprehension, Anya peered into the vortex. She saw shimmering stars, swirling galaxies, and distant worlds. The backpack, she realized, was not merely an object but a portal to the unknown.\n",
      "\n",
      "Overwhelmed by wonder, Anya dared not hesitate. She stepped into the vortex, and the world around her dissolved into a kaleidoscope of colors and light. When her senses returned, she found herself standing in a vast and ethereal realm—a realm of magic.\n",
      "\n",
      "There, she encountered mythical creatures, wise old wizards, and enigmatic beings from far-off lands. Each encounter filled her with wonder and ignited her thirst for knowledge. With the magic backpack as her guide, Anya explored this enchanting world, learning ancient spells, unraveling hidden mysteries, and forging unbreakable bonds with extraordinary beings.\n",
      "\n",
      "As the days turned into weeks, Anya's life in Willow Creek faded into a distant memory. She had become a traveler of worlds, her magic backpack connecting her to the infinite possibilities that lay beyond the ordinary.\n",
      "\n",
      "But even in the realm of magic, adventures could have their consequences. A powerful sorcerer, consumed by greed, sought to seize control of the backpack and its untold power. A fierce battle ensued, testing the limits of Anya's courage and the strength of her newfound abilities.\n",
      "\n",
      "In the end, Anya overcame the sorcerer, proving that even in a world of wonder, the power of friendship, knowledge, and a touch of magic could triumph over darkness.\n",
      "\n",
      "And so, the legend of Anya, the girl who journeyed to the realm of magic through a discarded backpack, was passed down through generations in Willow Creek. It served as a reminder that even in the most ordinary of lives, the extraordinary could always be just around the corner.\n"
     ]
    }
   ],
   "source": [
    "import google.generativeai as genai\n",
    "\n",
    "GOOGLE_API_KEY = os.environ.get(\"GEMINI\")\n",
    "genai.configure(api_key=GOOGLE_API_KEY)\n",
    "\n",
    "model = genai.GenerativeModel('gemini-pro')\n",
    "\n",
    "response = model.generate_content(\"Write a story about a magic backpack.\")\n",
    "print(response.text)"
   ]
  },
  {
   "cell_type": "code",
   "execution_count": 1,
   "metadata": {},
   "outputs": [
    {
     "ename": "GroqError",
     "evalue": "The api_key client option must be set either by passing api_key to the client or by setting the GROQ_API_KEY environment variable",
     "output_type": "error",
     "traceback": [
      "\u001b[1;31m---------------------------------------------------------------------------\u001b[0m",
      "\u001b[1;31mGroqError\u001b[0m                                 Traceback (most recent call last)",
      "Cell \u001b[1;32mIn[1], line 5\u001b[0m\n\u001b[0;32m      1\u001b[0m \u001b[38;5;28;01mimport\u001b[39;00m \u001b[38;5;21;01mos\u001b[39;00m\n\u001b[0;32m      3\u001b[0m \u001b[38;5;28;01mfrom\u001b[39;00m \u001b[38;5;21;01mgroq\u001b[39;00m \u001b[38;5;28;01mimport\u001b[39;00m Groq\n\u001b[1;32m----> 5\u001b[0m client \u001b[38;5;241m=\u001b[39m \u001b[43mGroq\u001b[49m\u001b[43m(\u001b[49m\n\u001b[0;32m      6\u001b[0m \u001b[43m    \u001b[49m\u001b[43mapi_key\u001b[49m\u001b[38;5;241;43m=\u001b[39;49m\u001b[43mos\u001b[49m\u001b[38;5;241;43m.\u001b[39;49m\u001b[43menviron\u001b[49m\u001b[38;5;241;43m.\u001b[39;49m\u001b[43mget\u001b[49m\u001b[43m(\u001b[49m\u001b[38;5;124;43m\"\u001b[39;49m\u001b[38;5;124;43mGROQ_API_KEY\u001b[39;49m\u001b[38;5;124;43m\"\u001b[39;49m\u001b[43m)\u001b[49m\u001b[43m,\u001b[49m\n\u001b[0;32m      7\u001b[0m \u001b[43m)\u001b[49m\n\u001b[0;32m      9\u001b[0m chat_completion \u001b[38;5;241m=\u001b[39m client\u001b[38;5;241m.\u001b[39mchat\u001b[38;5;241m.\u001b[39mcompletions\u001b[38;5;241m.\u001b[39mcreate(\n\u001b[0;32m     10\u001b[0m     messages\u001b[38;5;241m=\u001b[39m[\n\u001b[0;32m     11\u001b[0m         {\n\u001b[1;32m   (...)\u001b[0m\n\u001b[0;32m     16\u001b[0m     model\u001b[38;5;241m=\u001b[39m\u001b[38;5;124m\"\u001b[39m\u001b[38;5;124mllama3-8b-8192\u001b[39m\u001b[38;5;124m\"\u001b[39m,\n\u001b[0;32m     17\u001b[0m )\n\u001b[0;32m     19\u001b[0m \u001b[38;5;28mprint\u001b[39m(chat_completion\u001b[38;5;241m.\u001b[39mchoices[\u001b[38;5;241m0\u001b[39m]\u001b[38;5;241m.\u001b[39mmessage\u001b[38;5;241m.\u001b[39mcontent)\n",
      "File \u001b[1;32me:\\Workspace\\healthkathon-ai\\venv\\Lib\\site-packages\\groq\\_client.py:89\u001b[0m, in \u001b[0;36mGroq.__init__\u001b[1;34m(self, api_key, base_url, timeout, max_retries, default_headers, default_query, http_client, _strict_response_validation)\u001b[0m\n\u001b[0;32m     87\u001b[0m     api_key \u001b[38;5;241m=\u001b[39m os\u001b[38;5;241m.\u001b[39menviron\u001b[38;5;241m.\u001b[39mget(\u001b[38;5;124m\"\u001b[39m\u001b[38;5;124mGROQ_API_KEY\u001b[39m\u001b[38;5;124m\"\u001b[39m)\n\u001b[0;32m     88\u001b[0m \u001b[38;5;28;01mif\u001b[39;00m api_key \u001b[38;5;129;01mis\u001b[39;00m \u001b[38;5;28;01mNone\u001b[39;00m:\n\u001b[1;32m---> 89\u001b[0m     \u001b[38;5;28;01mraise\u001b[39;00m GroqError(\n\u001b[0;32m     90\u001b[0m         \u001b[38;5;124m\"\u001b[39m\u001b[38;5;124mThe api_key client option must be set either by passing api_key to the client or by setting the GROQ_API_KEY environment variable\u001b[39m\u001b[38;5;124m\"\u001b[39m\n\u001b[0;32m     91\u001b[0m     )\n\u001b[0;32m     92\u001b[0m \u001b[38;5;28mself\u001b[39m\u001b[38;5;241m.\u001b[39mapi_key \u001b[38;5;241m=\u001b[39m api_key\n\u001b[0;32m     94\u001b[0m \u001b[38;5;28;01mif\u001b[39;00m base_url \u001b[38;5;129;01mis\u001b[39;00m \u001b[38;5;28;01mNone\u001b[39;00m:\n",
      "\u001b[1;31mGroqError\u001b[0m: The api_key client option must be set either by passing api_key to the client or by setting the GROQ_API_KEY environment variable"
     ]
    }
   ],
   "source": [
    "import os\n",
    "\n",
    "from groq import Groq\n",
    "\n",
    "client = Groq(\n",
    "    api_key=os.environ.get(\"GROQ\"),\n",
    ")\n",
    "\n",
    "chat_completion = client.chat.completions.create(\n",
    "    messages=[\n",
    "        {\n",
    "            \"role\": \"user\",\n",
    "            \"content\": \"Explain the importance of fast language models\",\n",
    "        }\n",
    "    ],\n",
    "    model=\"llama3-8b-8192\",\n",
    ")\n",
    "\n",
    "print(chat_completion.choices[0].message.content)"
   ]
  }
 ],
 "metadata": {
  "kernelspec": {
   "display_name": "Python 3",
   "language": "python",
   "name": "python3"
  },
  "language_info": {
   "codemirror_mode": {
    "name": "ipython",
    "version": 3
   },
   "file_extension": ".py",
   "mimetype": "text/x-python",
   "name": "python",
   "nbconvert_exporter": "python",
   "pygments_lexer": "ipython3",
   "version": "3.12.7"
  }
 },
 "nbformat": 4,
 "nbformat_minor": 2
}
